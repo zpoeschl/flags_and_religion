{
 "cells": [
  {
   "cell_type": "code",
   "execution_count": null,
   "metadata": {},
   "outputs": [],
   "source": [
    "import pandas as pd"
   ]
  },
  {
   "cell_type": "code",
   "execution_count": null,
   "metadata": {},
   "outputs": [],
   "source": [
    "# Attribute Information:\n",
    "#    1. name\tName of the country concerned\n",
    "#    2. landmass\t1=N.America, 2=S.America, 3=Europe, 4=Africa, 4=Asia, 6=Oceania\n",
    "#    3. zone\tGeographic quadrant, based on Greenwich and the Equator\n",
    "#                 1=NE, 2=SE, 3=SW, 4=NW\n",
    "#    4. area\tin thousands of square km\n",
    "#    5. population\tin round millions\n",
    "#    6. language 1=English, 2=Spanish, 3=French, 4=German, 5=Slavic, 6=Other \n",
    "#                Indo-European, 7=Chinese, 8=Arabic, \n",
    "#                9=Japanese/Turkish/Finnish/Magyar, 10=Others\n",
    "#    7. religion 0=Catholic, 1=Other Christian, 2=Muslim, 3=Buddhist, 4=Hindu,\n",
    "#                5=Ethnic, 6=Marxist, 7=Others\n",
    "#    8. bars     Number of vertical bars in the flag\n",
    "#    9. stripes  Number of horizontal stripes in the flag\n",
    "#   10. colours  Number of different colours in the flag\n",
    "#   11. red      0 if red absent, 1 if red present in the flag\n",
    "#   12. green    same for green\n",
    "#   13. blue     same for blue\n",
    "#   14. gold     same for gold (also yellow)\n",
    "#   15. white    same for white\n",
    "#   16. black    same for black\n",
    "#   17. orange   same for orange (also brown)\n",
    "#   18. mainhue  predominant colour in the flag (tie-breaks decided by taking\n",
    "#                the topmost hue, if that fails then the most central hue,\n",
    "#                and if that fails the leftmost hue)\n",
    "#   19. circles  Number of circles in the flag\n",
    "#   20. crosses  Number of (upright) crosses\n",
    "#   21. saltires Number of diagonal crosses\n",
    "#   22. quarters Number of quartered sections\n",
    "#   23. sunstars Number of sun or star symbols\n",
    "#   24. crescent 1 if a crescent moon symbol present, else 0\n",
    "#   25. triangle 1 if any triangles present, 0 otherwise\n",
    "#   26. icon     1 if an inanimate image present (e.g., a boat), otherwise 0\n",
    "#   27. animate  1 if an animate image (e.g., an eagle, a tree, a human hand)\n",
    "#                present, 0 otherwise\n",
    "#   28. text     1 if any letters or writing on the flag (e.g., a motto or\n",
    "#                slogan), 0 otherwise\n",
    "#   29. topleft  colour in the top-left corner (moving right to decide \n",
    "#                tie-breaks)\n",
    "#   30. botright Colour in the bottom-left corner (moving left to decide \n",
    "#                tie-breaks)"
   ]
  },
  {
   "cell_type": "code",
   "execution_count": null,
   "metadata": {},
   "outputs": [],
   "source": [
    "flag_data = pd.read_csv(\"flags.csv\", names=['name', 'landmass', 'zone', 'area', 'population', 'language', 'religion', 'bars', 'stripes', 'colors', 'red', 'green', 'blue', 'gold', 'white', 'black', 'orange', 'mainhue', 'circles', 'crosses', 'saltires', 'quarters', 'sunstars', 'crescent', 'triangle', 'icon', 'animate', 'text', 'topleft', 'botright'])\n",
    "flag_data"
   ]
  },
  {
   "cell_type": "code",
   "execution_count": null,
   "metadata": {},
   "outputs": [],
   "source": []
  }
 ],
 "metadata": {
  "kernelspec": {
   "display_name": "Python 3",
   "language": "python",
   "name": "python3"
  },
  "language_info": {
   "codemirror_mode": {
    "name": "ipython",
    "version": 3
   },
   "file_extension": ".py",
   "mimetype": "text/x-python",
   "name": "python",
   "nbconvert_exporter": "python",
   "pygments_lexer": "ipython3",
   "version": "3.6.10"
  }
 },
 "nbformat": 4,
 "nbformat_minor": 4
}
