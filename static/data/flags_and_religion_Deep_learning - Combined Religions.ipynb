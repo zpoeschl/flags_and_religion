{
 "cells": [
  {
   "cell_type": "code",
   "execution_count": null,
   "metadata": {},
   "outputs": [],
   "source": [
    "import pandas as pd\n",
    "import numpy as np\n",
    "import os"
   ]
  },
  {
   "cell_type": "code",
   "execution_count": null,
   "metadata": {},
   "outputs": [],
   "source": [
    "# Attribute Information from\n",
    "# https://archive.ics.uci.edu/ml/datasets/Flags\n",
    "#    1. name:       Name of the country concerned\n",
    "\n",
    "#    2. landmass:\n",
    "#                   1=N.America,\n",
    "#                   2=S.America,\n",
    "#                   3=Europe,\n",
    "#                   4=Africa,\n",
    "#                   5=Asia,\n",
    "#                   6=Oceania\n",
    "\n",
    "#    3. zone: Geographic quadrant, based on Greenwich and the Equator\n",
    "#                   1=NE,\n",
    "#                   2=SE,\n",
    "#                   3=SW,\n",
    "#                   4=NW\n",
    "\n",
    "#    4. area:       in thousands of square km\n",
    "\n",
    "#    5. population: in round millions\n",
    "\n",
    "#    6. language:\n",
    "#                   1=English,\n",
    "#                   2=Spanish,\n",
    "#                   3=French,\n",
    "#                   4=German,\n",
    "#                   5=Slavic,\n",
    "#                   6=other Indo-European,\n",
    "#                   7=Chinese,\n",
    "#                   8=Arabic, \n",
    "#                   9=Japanese/Turkish/Finnish/Magyar,\n",
    "#                  10=others\n",
    "\n",
    "#    7. religion:\n",
    "#                   0=Catholic,\n",
    "#                   1=Other Christian,\n",
    "#                   2=Muslim,\n",
    "#                   3=Buddhist,\n",
    "#                   4=Hindu,\n",
    "#                   5=ethnic,\n",
    "#                   6=Marxist,\n",
    "#                   7=others\n",
    "#    7. new_flag religion:\n",
    "#                   0=Catholic/Other Christian,\n",
    "#                   1=Muslim,\n",
    "#                   2=Buddhist,\n",
    "#                   3=Hindu,\n",
    "#                   4=Marxist,others\n",
    "\n",
    "#    8. bars:       number of vertical bars in the flag\n",
    "\n",
    "#    9. stripes:    number of horizontal stripes in the flag\n",
    "\n",
    "#   10. colours:    number of different colours in the flag\n",
    "\n",
    "#   11. red:        0 if red absent, 1 if red present in the flag\n",
    "\n",
    "#   12. green:      same for green\n",
    "\n",
    "#   13. blue:       same for blue\n",
    "\n",
    "#   14. gold:       same for gold (also yellow)\n",
    "\n",
    "#   15. white:      same for white\n",
    "\n",
    "#   16. black:      same for black\n",
    "\n",
    "#   17. orange:     same for orange (also brown)\n",
    "\n",
    "#   18. mainhue:    predominant colour in the flag (tie-breaks decided by taking the topmost hue,\n",
    "#                   if that fails then the most central hue, and if that fails the leftmost hue)\n",
    "\n",
    "#   19. circles:    number of circles in the flag\n",
    "\n",
    "#   20. crosses:    number of (upright) crosses\n",
    "\n",
    "#   21. saltires:   number of diagonal crosses\n",
    "\n",
    "#   22. quarters:   number of quartered sections\n",
    "\n",
    "#   23. sunstars:   number of sun or star symbols\n",
    "\n",
    "#   24. crescent:   1 if a crescent moon symbol present, else 0\n",
    "\n",
    "#   25. triangle:   1 if any triangles present, else 0\n",
    "\n",
    "#   26. icon:       1 if an inanimate image present (e.g., a boat), else 0\n",
    "\n",
    "#   27. animate:    1 if an animate image (e.g., an eagle, a tree, a human hand) present, else 0\n",
    "\n",
    "#   28. text:       1 if any letters or writing on the flag (e.g., a motto or slogan), else 0\n",
    "\n",
    "#   29. topleft:    color in the top-left corner (moving right to decide tie-breaks)\n",
    "\n",
    "#   30. botright:   color in the bottom-left corner (moving left to decide tie-breaks)"
   ]
  },
  {
   "cell_type": "code",
   "execution_count": null,
   "metadata": {},
   "outputs": [],
   "source": [
    "pd.set_option('display.max_columns', None)"
   ]
  },
  {
   "cell_type": "code",
   "execution_count": null,
   "metadata": {},
   "outputs": [],
   "source": [
    "flag_data = pd.read_csv(\"flags.csv\", names=['name', 'landmass', 'zone', 'area', 'population', 'language', 'religion', 'bars', 'stripes', 'colors', 'red', 'green', 'blue', 'gold', 'white', 'black', 'orange', 'mainhue', 'circles', 'crosses', 'saltires', 'quarters', 'sunstars', 'crescent', 'triangle', 'icon', 'animate', 'text', 'topleft', 'botright'])\n",
    "flag_data.head(30)"
   ]
  },
  {
   "cell_type": "code",
   "execution_count": null,
   "metadata": {},
   "outputs": [],
   "source": [
    "new_flag = pd.read_csv(\"flags.csv\", names=['name', 'landmass', 'zone', 'area', 'population', 'language', 'religion', 'bars', 'stripes', 'colors', 'red', 'green', 'blue', 'gold', 'white', 'black', 'orange', 'mainhue', 'circles', 'crosses', 'saltires', 'quarters', 'sunstars', 'crescent', 'triangle', 'icon', 'animate', 'text', 'topleft', 'botright'])"
   ]
  },
  {
   "cell_type": "code",
   "execution_count": null,
   "metadata": {},
   "outputs": [],
   "source": [
    "new_flag['religion'] = new_flag['religion'].replace([5],0)\n",
    "new_flag['religion'] = new_flag['religion'].replace([1],0)"
   ]
  },
  {
   "cell_type": "code",
   "execution_count": null,
   "metadata": {},
   "outputs": [],
   "source": [
    "new_flag['religion'] = new_flag['religion'].replace([2],1)"
   ]
  },
  {
   "cell_type": "code",
   "execution_count": null,
   "metadata": {},
   "outputs": [],
   "source": [
    "new_flag['religion'] = new_flag['religion'].replace([3],2)"
   ]
  },
  {
   "cell_type": "code",
   "execution_count": null,
   "metadata": {},
   "outputs": [],
   "source": [
    "new_flag['religion'] = new_flag['religion'].replace([4],3)"
   ]
  },
  {
   "cell_type": "code",
   "execution_count": null,
   "metadata": {},
   "outputs": [],
   "source": [
    "new_flag['religion'] = new_flag['religion'].replace([6],4)\n",
    "new_flag['religion'] = new_flag['religion'].replace([7],4)"
   ]
  },
  {
   "cell_type": "code",
   "execution_count": null,
   "metadata": {},
   "outputs": [],
   "source": [
    "new_flag.head(30)"
   ]
  },
  {
   "cell_type": "code",
   "execution_count": null,
   "metadata": {},
   "outputs": [],
   "source": [
    "# combined catholic with other christian, marxist with other and changed the ethnic religion to its majority relgion\n",
    "# which was either christian or muslim (islam)\n",
    "new_flag.iloc[27,6] = 1\n",
    "new_flag.iloc[35,6] = 1\n",
    "new_flag.iloc[63,6] = 1\n",
    "new_flag.iloc[74,6] = 1\n",
    "new_flag.iloc[149,6] = 1"
   ]
  },
  {
   "cell_type": "code",
   "execution_count": null,
   "metadata": {},
   "outputs": [],
   "source": [
    "print(flag_data['religion'].value_counts())"
   ]
  },
  {
   "cell_type": "code",
   "execution_count": null,
   "metadata": {},
   "outputs": [],
   "source": [
    "flag_data.head()"
   ]
  },
  {
   "cell_type": "code",
   "execution_count": null,
   "metadata": {},
   "outputs": [],
   "source": [
    "print(new_flag['religion'].value_counts())"
   ]
  },
  {
   "cell_type": "code",
   "execution_count": null,
   "metadata": {},
   "outputs": [],
   "source": [
    "new_flag.loc[new_flag['religion'] == 4]"
   ]
  },
  {
   "cell_type": "code",
   "execution_count": null,
   "metadata": {},
   "outputs": [],
   "source": [
    "flag_data.loc[flag_data['religion'] == 4]"
   ]
  },
  {
   "cell_type": "code",
   "execution_count": null,
   "metadata": {},
   "outputs": [],
   "source": [
    "# new_flag.loc[new_flag['religion'] == 5].replace([5,5,5,5,5,5,5,5,5,5,5,5,5,5,5,5,5,5,5,5,5,5,5,5,5,5,5],\n",
    "#                                                 [0,0,0,2,0,0,2,0,0,0,2,0,2,0,0,0,0,0,0,0,0,2,0,0,0,0,0 ])"
   ]
  },
  {
   "cell_type": "code",
   "execution_count": null,
   "metadata": {},
   "outputs": [],
   "source": [
    "new_flag.head(75)"
   ]
  },
  {
   "cell_type": "markdown",
   "metadata": {},
   "source": [
    "## Select your features"
   ]
  },
  {
   "cell_type": "code",
   "execution_count": null,
   "metadata": {},
   "outputs": [],
   "source": [
    "target = flag_data['religion']\n",
    "new_target = new_flag['religion']"
   ]
  },
  {
   "cell_type": "code",
   "execution_count": null,
   "metadata": {},
   "outputs": [],
   "source": [
    "selected_features = flag_data.drop(columns=['name', 'religion'])\n",
    "selected_features.head(20)"
   ]
  },
  {
   "cell_type": "code",
   "execution_count": null,
   "metadata": {},
   "outputs": [],
   "source": [
    "new_selected_features = new_flag.drop(columns=['name', 'religion'])\n",
    "new_selected_features.head(20)"
   ]
  },
  {
   "cell_type": "code",
   "execution_count": null,
   "metadata": {},
   "outputs": [],
   "source": [
    "selected_features = pd.get_dummies(selected_features)\n",
    "selected_features.head()"
   ]
  },
  {
   "cell_type": "code",
   "execution_count": null,
   "metadata": {},
   "outputs": [],
   "source": [
    "new_selected_features = pd.get_dummies(new_selected_features)\n",
    "new_selected_features.head()"
   ]
  },
  {
   "cell_type": "code",
   "execution_count": null,
   "metadata": {},
   "outputs": [],
   "source": [
    "print(new_selected_features.shape, new_target.shape)"
   ]
  },
  {
   "cell_type": "code",
   "execution_count": null,
   "metadata": {},
   "outputs": [],
   "source": [
    "new_flag['religion'].nunique()"
   ]
  },
  {
   "cell_type": "markdown",
   "metadata": {},
   "source": [
    "## Create a Train Test Split"
   ]
  },
  {
   "cell_type": "code",
   "execution_count": null,
   "metadata": {},
   "outputs": [],
   "source": [
    "from sklearn.model_selection import train_test_split\n",
    "\n",
    "X_train, X_test, y_train, y_test = train_test_split(new_selected_features, new_target, random_state=42)"
   ]
  },
  {
   "cell_type": "markdown",
   "metadata": {},
   "source": [
    "## Pre-Processing"
   ]
  },
  {
   "cell_type": "code",
   "execution_count": null,
   "metadata": {},
   "outputs": [],
   "source": [
    "# Scale your data\n",
    "from sklearn.preprocessing import StandardScaler\n",
    "\n",
    "# Create a StandardScater model and fit it to the training data\n",
    "\n",
    "X_scaler = StandardScaler().fit(X_train)"
   ]
  },
  {
   "cell_type": "markdown",
   "metadata": {},
   "source": [
    "## Train the Model"
   ]
  },
  {
   "cell_type": "code",
   "execution_count": null,
   "metadata": {},
   "outputs": [],
   "source": [
    "# Transform the training and testing data using the X_scaler and y_scaler models\n",
    "\n",
    "X_train_scaled = X_scaler.transform(X_train)\n",
    "X_test_scaled = X_scaler.transform(X_test)"
   ]
  },
  {
   "cell_type": "code",
   "execution_count": null,
   "metadata": {},
   "outputs": [],
   "source": [
    "from tensorflow.keras.utils import to_categorical"
   ]
  },
  {
   "cell_type": "code",
   "execution_count": null,
   "metadata": {},
   "outputs": [],
   "source": [
    "# One-hot encoding\n",
    "y_train_categorical = to_categorical(y_train)\n",
    "y_test_categorical = to_categorical(y_test)\n",
    "y_train_categorical"
   ]
  },
  {
   "cell_type": "code",
   "execution_count": null,
   "metadata": {},
   "outputs": [],
   "source": [
    "print(X_train_scaled.shape, y_test_categorical.shape)"
   ]
  },
  {
   "cell_type": "code",
   "execution_count": null,
   "metadata": {},
   "outputs": [],
   "source": [
    "# first, create a normal neural network with 2 inputs, 6 hidden nodes, and 2 outputs\n",
    "from tensorflow.keras.models import Sequential\n",
    "from tensorflow.keras.layers import Dense\n",
    "\n",
    "model = Sequential()\n",
    "model.add(Dense(units=18, activation='relu', input_dim=48))\n",
    "model.add(Dense(units=5, activation='softmax'))"
   ]
  },
  {
   "cell_type": "code",
   "execution_count": null,
   "metadata": {},
   "outputs": [],
   "source": [
    "model.summary()"
   ]
  },
  {
   "cell_type": "code",
   "execution_count": null,
   "metadata": {},
   "outputs": [],
   "source": [
    "# Compile the model\n",
    "model.compile(optimizer='adam',\n",
    "              loss='categorical_crossentropy',\n",
    "              metrics=['accuracy'])"
   ]
  },
  {
   "cell_type": "code",
   "execution_count": null,
   "metadata": {},
   "outputs": [],
   "source": [
    "\n",
    "# Fit the model to the training data\n",
    "model.fit(\n",
    "    X_train_scaled,\n",
    "    y_train_categorical,\n",
    "    epochs=200,\n",
    "    shuffle=True,\n",
    "    verbose=1\n",
    ")"
   ]
  },
  {
   "cell_type": "code",
   "execution_count": null,
   "metadata": {},
   "outputs": [],
   "source": [
    "deep_model = Sequential()\n",
    "deep_model.add(Dense(units=18, activation='relu', input_dim=48))\n",
    "deep_model.add(Dense(units=18, activation='relu'))\n",
    "deep_model.add(Dense(units=5, activation='softmax'))"
   ]
  },
  {
   "cell_type": "code",
   "execution_count": null,
   "metadata": {},
   "outputs": [],
   "source": [
    "deep_model.summary()"
   ]
  },
  {
   "cell_type": "code",
   "execution_count": null,
   "metadata": {},
   "outputs": [],
   "source": [
    "deep_model.compile(optimizer='adam',\n",
    "                   loss='categorical_crossentropy',\n",
    "                   metrics=['accuracy'])\n",
    "\n",
    "deep_model.fit(\n",
    "    X_train_scaled,\n",
    "    y_train_categorical,\n",
    "    epochs=200,\n",
    "    shuffle=True,\n",
    "    verbose=2\n",
    ")"
   ]
  },
  {
   "cell_type": "code",
   "execution_count": null,
   "metadata": {},
   "outputs": [],
   "source": [
    "model_loss, model_accuracy = model.evaluate(X_test_scaled, y_test_categorical, verbose=2)\n",
    "print( f\"Normal Neural Network - Loss: {model_loss}, Accuracy: {model_accuracy}\")"
   ]
  },
  {
   "cell_type": "code",
   "execution_count": null,
   "metadata": {},
   "outputs": [],
   "source": [
    "model_loss, model_accuracy = deep_model.evaluate(\n",
    "    X_test_scaled, y_test_categorical, verbose=2)\n",
    "print(f\"Deep Neural Network - Loss: {model_loss}, Accuracy: {model_accuracy}\")"
   ]
  }
 ],
 "metadata": {
  "kernelspec": {
   "display_name": "Python 3",
   "language": "python",
   "name": "python3"
  },
  "language_info": {
   "codemirror_mode": {
    "name": "ipython",
    "version": 3
   },
   "file_extension": ".py",
   "mimetype": "text/x-python",
   "name": "python",
   "nbconvert_exporter": "python",
   "pygments_lexer": "ipython3",
   "version": "3.6.10"
  }
 },
 "nbformat": 4,
 "nbformat_minor": 4
}
