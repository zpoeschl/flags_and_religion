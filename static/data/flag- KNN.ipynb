{
 "cells": [
  {
   "cell_type": "markdown",
   "metadata": {},
   "source": [
    "# K-Nearest Neighbors"
   ]
  },
  {
   "cell_type": "markdown",
   "metadata": {},
   "source": [
    "K-Nearest Neighbors (KNN) is an algorithm for classifcation and regression problems. It stores all the available data and classifies a new data point based on the similarity. This means when new data appears then it can be easily classified into a well suite category by using K-NN algorithm."
   ]
  },
  {
   "cell_type": "markdown",
   "metadata": {},
   "source": [
    "Introduction\n",
    "\n",
    "We have a dataset that contains description of flags that will predict the religion of that flag's country. We have image of different flags that looks similar to the dataset flags. The K-Nearest Neighbors model will find the similar features of the new data set to fit the flags description and based on the similar features it will put it into a religion: Christian, Muslim, Buddhist, Hindu and other.  \n",
    "\n",
    "Steps to implement the K-NN algorithm\n",
    "\n",
    "1) Data pre-processing step  2) Fitting the K-NN algorithm to the Training set  3) Predicting the test result  4) Test accuracy of the result  5) Visualizing the test set result"
   ]
  },
  {
   "cell_type": "code",
   "execution_count": null,
   "metadata": {},
   "outputs": [],
   "source": [
    "#Imports\n",
    "import matplotlib.pyplot as plt\n",
    "from sklearn.neighbors import KNeighborsClassifier\n",
    "import pandas as pd\n",
    "import os"
   ]
  },
  {
   "cell_type": "code",
   "execution_count": null,
   "metadata": {},
   "outputs": [],
   "source": [
    "#Loading Dataset\n",
    "flag = pd.read_csv(\"flags_with_headers_v_5.csv\")\n",
    "flag.head()"
   ]
  },
  {
   "cell_type": "code",
   "execution_count": null,
   "metadata": {},
   "outputs": [],
   "source": [
    "flag.info()"
   ]
  },
  {
   "cell_type": "code",
   "execution_count": null,
   "metadata": {},
   "outputs": [],
   "source": [
    "flag = pd.get_dummies(flag)\n",
    "flag.head()"
   ]
  },
  {
   "cell_type": "code",
   "execution_count": null,
   "metadata": {},
   "outputs": [],
   "source": [
    "#Drop the 'religion' & unnecessary column: 'Unnamed' from the input set. \n",
    "#Religion will become the y value (dependent).\n",
    "X = flag.drop(columns=['religion', 'Unnamed: 0'], axis=1)\n",
    "y = flag.religion"
   ]
  },
  {
   "cell_type": "markdown",
   "metadata": {},
   "source": [
    "# Scaling the Data"
   ]
  },
  {
   "cell_type": "code",
   "execution_count": null,
   "metadata": {},
   "outputs": [],
   "source": [
    "#Split the training and testing data\n",
    "from sklearn.model_selection import train_test_split\n",
    "X_train, X_test, y_train, y_test = train_test_split(X, y, random_state=35)"
   ]
  },
  {
   "cell_type": "code",
   "execution_count": null,
   "metadata": {},
   "outputs": [],
   "source": [
    "#Create a StandardScaler model and fit it to the training data\n",
    "from sklearn.preprocessing import StandardScaler\n",
    "X_scaler = StandardScaler().fit(X_train)"
   ]
  },
  {
   "cell_type": "code",
   "execution_count": null,
   "metadata": {},
   "outputs": [],
   "source": [
    "#Transform the training and testing data using the X_scaler and y_scaler models\n",
    "X_train_scaled = X_scaler.transform(X_train)\n",
    "X_test_scaled = X_scaler.transform(X_test)"
   ]
  },
  {
   "cell_type": "markdown",
   "metadata": {},
   "source": [
    "# Testing K-Nearest Neighbors"
   ]
  },
  {
   "cell_type": "code",
   "execution_count": null,
   "metadata": {
    "scrolled": true
   },
   "outputs": [],
   "source": [
    "#Loop through different k values to see which has the highest accuracy\n",
    "train_scores = []\n",
    "test_scores = []\n",
    "for k in range(1, 20, 2):\n",
    "    knn = KNeighborsClassifier(n_neighbors=k)\n",
    "    knn.fit(X_train_scaled, y_train)\n",
    "    train_score = knn.score(X_train_scaled, y_train)\n",
    "    test_score = knn.score(X_test_scaled, y_test)\n",
    "    train_scores.append(train_score)\n",
    "    test_scores.append(test_score)\n",
    "    print(f\"k: {k}, Train/Test Score: {train_score:.3f}/{test_score:.3f}\")\n",
    "    \n",
    "    \n",
    "plt.plot(range(1, 20, 2), train_scores, marker='o')\n",
    "plt.plot(range(1, 20, 2), test_scores, marker=\"x\")\n",
    "plt.xlabel(\"k neighbors\")\n",
    "plt.ylabel(\"Testing accuracy Score\")\n",
    "plt.show()"
   ]
  },
  {
   "cell_type": "code",
   "execution_count": null,
   "metadata": {},
   "outputs": [],
   "source": [
    "#Note that k: 7 provides the best accuracy where the classifier starts to stablize\n",
    "knn = KNeighborsClassifier(n_neighbors=9)\n",
    "knn.fit(X_train_scaled, y_train)\n",
    "print('K=9 Test Acc: %.3f' % knn.score(X_test_scaled, y_test))"
   ]
  },
  {
   "cell_type": "code",
   "execution_count": null,
   "metadata": {
    "scrolled": true
   },
   "outputs": [],
   "source": [
    "#Calculate classification report\n",
    "from sklearn.metrics import classification_report\n",
    "predictions = knn.predict(X_test_scaled)\n",
    "print(classification_report(y_test, predictions, target_names =['Christian', 'Muslim', 'Buddhist', 'Hindu', 'Other']))"
   ]
  },
  {
   "cell_type": "markdown",
   "metadata": {},
   "source": [
    "# Classification Report Interpretation"
   ]
  },
  {
   "cell_type": "markdown",
   "metadata": {},
   "source": [
    "The precision indicates the proportion of positive identifications which were actually correct. 1.0 is a model that produces no false positives. Per the K-Nearest Neighbors result for classifying Christianity, our precision is .63, fairly average indicating that was some false positives in our classification.\n",
    "\n",
    "The recall indicates the proportion of actual positives which were correctly classify. A model which produces no false negatives has a number of 1.0. Per the K- Nearest Neighbors result for classifying Christianity, our recall is at .96 which mean the model classified the positives correctly, close to perfect. \n",
    "\n",
    "The F-1 score is a combination of precision and recall. A perfect model also consists of 1.0. Per the K- Nearest Neighbors result for classifying Christianity, our recall is .76 which is fairly high. \n",
    "\n",
    "The support is the number of samples each metric was calculated on. Per the K- Nearest Neighbors results for classifying Christianity, the accuracy metrics was calculated on 49 samples whereas each religion: Christian was calculated with 27 samples, Muslim was 9 samples, Buddhist was 3 samples, Hindu was 1 sample and Other was 9 samples. Each of these samples added together, makes up 49 samples for the accuracy metrics. \n",
    "\n",
    "The accuracy of the model confirms how accurate the model is. Perfect accuracy is 1.0. Per the K- Nearest Neighbors result, our accuracy is .69 which indicate the model is classifying the data half correct.\n",
    "\n",
    "The Macro Average process the average of precision, recall and F1 score betweem classes. This metric performs overall across the sets of data regardless of any imbalances. This metric is a useful measure when the dataset varies in size.\n",
    "\n",
    "The Weighted Average process the average of precision, recall and F1 score. Each metric is calculated with the consideration of the sample sizes. An example is they will give a high number when one religion outperforms another due to having more samples.  "
   ]
  },
  {
   "cell_type": "markdown",
   "metadata": {},
   "source": [
    "# Prediction Example"
   ]
  },
  {
   "cell_type": "code",
   "execution_count": null,
   "metadata": {},
   "outputs": [],
   "source": [
    "knn.predict(X_test_scaled)"
   ]
  },
  {
   "cell_type": "code",
   "execution_count": null,
   "metadata": {},
   "outputs": [],
   "source": [
    "y_test.values"
   ]
  },
  {
   "cell_type": "markdown",
   "metadata": {},
   "source": [
    "# Analysis"
   ]
  },
  {
   "cell_type": "markdown",
   "metadata": {},
   "source": [
    "Per the KNN model, we have an accuracy of 63% of classifying flag colors, shapes, images, and text to predict the country's religion. I chose K = 9 as per the graph, that's when the score starts to stabilize and choosing an odd number to confirm there are no ties between classes. Per the classification report, classifying the religion Christian was secure as the precision method (percentage of the predictions were correct) is at 63%, recall method (percentage of the positive cases classified correctly) is at 96%, and f1-score method (percentage of positive predictions were correct) is at 76% but that has to do with the support method (sample size) of 27 vs the other religion in single digits. \n",
    "\n",
    "\n",
    "In conclusion, per the support method of the religion data points being imbalanced, the macro average confirmed our overall results. Although the KNN method has an accuracy of 63% in classifying the religion, due to our imbalance data set, our overall precision is 27%, our overall recall is 30% and overall f1-score is 28% with a sample size of 49. In order to improve the overall result, we will need a larger data set or narrowing the religion to 3-4. The percentage is fairly low overall; however, I can conclude that the KNN model can classify countries with Christianity as their religion efficiently based on the attributes of the country’s flag. "
   ]
  }
 ],
 "metadata": {
  "kernelspec": {
   "display_name": "Python 3",
   "language": "python",
   "name": "python3"
  },
  "language_info": {
   "codemirror_mode": {
    "name": "ipython",
    "version": 3
   },
   "file_extension": ".py",
   "mimetype": "text/x-python",
   "name": "python",
   "nbconvert_exporter": "python",
   "pygments_lexer": "ipython3",
   "version": "3.8.5"
  }
 },
 "nbformat": 4,
 "nbformat_minor": 4
}
