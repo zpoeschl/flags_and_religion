{
 "cells": [
  {
   "cell_type": "code",
   "execution_count": null,
   "metadata": {},
   "outputs": [],
   "source": [
    " %matplotlib inline\n",
    "import matplotlib.pyplot as plt\n",
    "import pandas as pd\n",
    "import numpy as np\n",
    "import os"
   ]
  },
  {
   "cell_type": "code",
   "execution_count": null,
   "metadata": {},
   "outputs": [],
   "source": [
    "# Attribute Information from\n",
    "# https://archive.ics.uci.edu/ml/datasets/Flags\n",
    "#    1. name:       Name of the country concerned\n",
    "\n",
    "#    2. landmass:\n",
    "#                   1=N.America,\n",
    "#                   2=S.America,\n",
    "#                   3=Europe,\n",
    "#                   4=Africa,\n",
    "#                   5=Asia,\n",
    "#                   6=Oceania\n",
    "\n",
    "#    3. zone: Geographic quadrant, based on Greenwich and the Equator\n",
    "#                   1=NE,\n",
    "#                   2=SE,\n",
    "#                   3=SW,\n",
    "#                   4=NW\n",
    "\n",
    "#    4. area:       in thousands of square km\n",
    "\n",
    "#    5. population: in round millions\n",
    "\n",
    "#    6. language:\n",
    "#                   1=English,\n",
    "#                   2=Spanish,\n",
    "#                   3=French,\n",
    "#                   4=German,\n",
    "#                   5=Slavic,\n",
    "#                   6=other Indo-European,\n",
    "#                   7=Chinese,\n",
    "#                   8=Arabic, \n",
    "#                   9=Japanese/Turkish/Finnish/Magyar,\n",
    "#                  10=others\n",
    "\n",
    "#    7. religion:\n",
    "#                   0=Catholic,\n",
    "#                   1=Other Christian,\n",
    "#                   2=Muslim,\n",
    "#                   3=Buddhist,\n",
    "#                   4=Hindu,\n",
    "#                   5=ethnic,\n",
    "#                   6=Marxist,\n",
    "#                   7=others\n",
    "\n",
    "#    8. bars:       number of vertical bars in the flag\n",
    "\n",
    "#    9. stripes:    number of horizontal stripes in the flag\n",
    "\n",
    "#   10. colours:    number of different colours in the flag\n",
    "\n",
    "#   11. red:        0 if red absent, 1 if red present in the flag\n",
    "\n",
    "#   12. green:      same for green\n",
    "\n",
    "#   13. blue:       same for blue\n",
    "\n",
    "#   14. gold:       same for gold (also yellow)\n",
    "\n",
    "#   15. white:      same for white\n",
    "\n",
    "#   16. black:      same for black\n",
    "\n",
    "#   17. orange:     same for orange (also brown)\n",
    "\n",
    "#   18. mainhue:    predominant colour in the flag (tie-breaks decided by taking the topmost hue,\n",
    "#                   if that fails then the most central hue, and if that fails the leftmost hue)\n",
    "\n",
    "#   19. circles:    number of circles in the flag\n",
    "\n",
    "#   20. crosses:    number of (upright) crosses\n",
    "\n",
    "#   21. saltires:   number of diagonal crosses\n",
    "\n",
    "#   22. quarters:   number of quartered sections\n",
    "\n",
    "#   23. sunstars:   number of sun or star symbols\n",
    "\n",
    "#   24. crescent:   1 if a crescent moon symbol present, else 0\n",
    "\n",
    "#   25. triangle:   1 if any triangles present, else 0\n",
    "\n",
    "#   26. icon:       1 if an inanimate image present (e.g., a boat), else 0\n",
    "\n",
    "#   27. animate:    1 if an animate image (e.g., an eagle, a tree, a human hand) present, else 0\n",
    "\n",
    "#   28. text:       1 if any letters or writing on the flag (e.g., a motto or slogan), else 0\n",
    "\n",
    "#   29. topleft:    color in the top-left corner (moving right to decide tie-breaks)\n",
    "\n",
    "#   30. botright:   color in the bottom-left corner (moving left to decide tie-breaks)"
   ]
  },
  {
   "cell_type": "code",
   "execution_count": null,
   "metadata": {},
   "outputs": [],
   "source": [
    "pd.set_option('display.max_columns', None)"
   ]
  },
  {
   "cell_type": "code",
   "execution_count": null,
   "metadata": {},
   "outputs": [],
   "source": [
    "flag_data = pd.read_csv(\"flags.csv\", names=['name', 'landmass', 'zone', 'area', 'population', 'language', 'religion', 'bars', 'stripes', 'colors', 'red', 'green', 'blue', 'gold', 'white', 'black', 'orange', 'mainhue', 'circles', 'crosses', 'saltires', 'quarters', 'sunstars', 'crescent', 'triangle', 'icon', 'animate', 'text', 'topleft', 'botright'])\n",
    "flag_data"
   ]
  },
  {
   "cell_type": "markdown",
   "metadata": {},
   "source": [
    "## Select your features"
   ]
  },
  {
   "cell_type": "code",
   "execution_count": null,
   "metadata": {},
   "outputs": [],
   "source": [
    "target = flag_data['religion']"
   ]
  },
  {
   "cell_type": "code",
   "execution_count": null,
   "metadata": {},
   "outputs": [],
   "source": [
    "selected_features = flag_data.drop(columns=['name', 'religion'])\n",
    "selected_features.head(20)"
   ]
  },
  {
   "cell_type": "code",
   "execution_count": null,
   "metadata": {},
   "outputs": [],
   "source": [
    "selected_features = pd.get_dummies(selected_features)\n",
    "selected_features.head()"
   ]
  },
  {
   "cell_type": "code",
   "execution_count": 8,
   "metadata": {},
   "outputs": [
    {
     "name": "stdout",
     "output_type": "stream",
     "text": [
      "(194, 48) (194,)\n"
     ]
    }
   ],
   "source": [
    "print(selected_features.shape, target.shape)"
   ]
  },
  {
   "cell_type": "markdown",
   "metadata": {},
   "source": [
    "## Create a Train Test Split"
   ]
  },
  {
   "cell_type": "code",
   "execution_count": 9,
   "metadata": {},
   "outputs": [],
   "source": [
    "from sklearn.model_selection import train_test_split\n",
    "\n",
    "X_train, X_test, y_train, y_test = train_test_split(selected_features, target, random_state=42)"
   ]
  },
  {
   "cell_type": "markdown",
   "metadata": {},
   "source": [
    "## Pre-Processing"
   ]
  },
  {
   "cell_type": "code",
   "execution_count": 10,
   "metadata": {},
   "outputs": [],
   "source": [
    "# Scale your data\n",
    "from sklearn.preprocessing import StandardScaler\n",
    "\n",
    "# Create a StandardScater model and fit it to the training data\n",
    "\n",
    "X_scaler = StandardScaler().fit(X_train)"
   ]
  },
  {
   "cell_type": "markdown",
   "metadata": {},
   "source": [
    "##  Train the Model"
   ]
  },
  {
   "cell_type": "code",
   "execution_count": 11,
   "metadata": {},
   "outputs": [],
   "source": [
    "# Transform the training and testing data using the X_scaler and y_scaler models\n",
    "\n",
    "X_train_scaled = X_scaler.transform(X_train)\n",
    "X_test_scaled = X_scaler.transform(X_test)"
   ]
  },
  {
   "cell_type": "code",
   "execution_count": 12,
   "metadata": {},
   "outputs": [],
   "source": [
    "y_train"
   ]
  },
  {
   "cell_type": "code",
   "execution_count": null,
   "metadata": {},
   "outputs": [],
   "source": [
    " # Create the model using LinearRegression\n",
    "\n",
    "### BEGIN SOLUTION\n",
    "from sklearn.linear_model import LinearRegression\n",
    "model = LinearRegression()\n",
    "model_test = LinearRegression()\n",
    "### END SOLUTION"
   ]
  },
  {
   "cell_type": "code",
   "execution_count": 13,
   "metadata": {},
   "outputs": [
    {
     "name": "stdout",
     "output_type": "stream",
     "text": [
      "Training Score: 0.41483762448111494\n",
      "Testing Score: -5.77415445226867e+22\n"
     ]
    }
   ],
   "source": [
    "# Fit the model to the training data and calculate the scores for the training and testing data\n",
    "\n",
    "### BEGIN SOLUTION\n",
    "model.fit(X_train_scaled, y_train)\n",
    "training_score = model.score(X_train_scaled, y_train)\n",
    "testing_score = model.score(X_test_scaled, y_test)\n",
    "\n",
    "### END SOLUTION \n",
    "\n",
    "print(f\"Training Score: {training_score}\")\n",
    "print(f\"Testing Score: {testing_score}\")"
   ]
  },
  {
   "cell_type": "code",
   "execution_count": null,
   "metadata": {},
   "outputs": [],

   "source": [
    "predictions = model.predict(X_train_scaled)\n",
    "# Plot Residuals\n",
    "plt.scatter(predictions, predictions - y_train, c=\"red\")\n",
    "plt.hlines(y=0, xmin=predictions.min(), xmax=predictions.max())\n",
    "plt.title(\"Training Data Residual Plot\")\n",
    "plt.show()"
   ]
  },
  {
   "cell_type": "code",
   "execution_count": null,
   "metadata": {},
   "outputs": [],

   "source": [
    "model_test.fit(X_test_scaled, y_test)\n",
    "test_predictions = model_test.predict(X_test_scaled)\n",
    "# Plot Residuals\n",
    "plt.scatter(test_predictions, test_predictions - y_test, c=\"green\", label=\"Testing Data\")\n",
    "plt.hlines(y=0, xmin=test_predictions.min(), xmax=test_predictions.max())\n",
    "plt.title(\"Testing Data Residual Plot\")\n",
    "plt.show()"
   ]
  },
  {
   "cell_type": "code",
   "execution_count": null,
   "metadata": {},
   "outputs": [],
   "source": [
    "from sklearn.metrics import mean_squared_error\n",
    "\n",
    "predictions = model.predict(X_test_scaled)\n",
    "MSE = mean_squared_error(y_test, predictions)\n",
    "r2 = model.score(X_test_scaled, y_test)\n",
    "\n",
    "print(f\"MSE: {MSE}, R2: {r2}\")"
   ]
  }
 ],
 "metadata": {
  "kernelspec": {
   "display_name": "Python 3",
   "language": "python",
   "name": "python3"
  },
  "language_info": {
   "codemirror_mode": {
    "name": "ipython",
    "version": 3
   },
   "file_extension": ".py",
   "mimetype": "text/x-python",
   "name": "python",
   "nbconvert_exporter": "python",
   "pygments_lexer": "ipython3",
   "version": "3.6.10"
  }
 },
 "nbformat": 4,
 "nbformat_minor": 4
}
